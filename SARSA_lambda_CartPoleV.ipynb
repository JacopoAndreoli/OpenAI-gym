{
 "cells": [
  {
   "cell_type": "code",
   "execution_count": 1,
   "metadata": {},
   "outputs": [
    {
     "name": "stdout",
     "output_type": "stream",
     "text": [
      "discretizing the environment ... \n",
      "done\n"
     ]
    }
   ],
   "source": [
    "from CartPole_env import CartPole_v1\n",
    "import math\n",
    "import matplotlib.pyplot as plt\n",
    "import numpy as np\n",
    "import random\n",
    "from mpl_toolkits import mplot3d\n",
    "import time \n",
    "import math\n",
    "from tqdm import tqdm\n",
    "import gymnasium as gym\n",
    "\n",
    "'''\n",
    "default parameters of the environment:\n",
    "\n",
    "- n_obs = 1000 --> number of samples experienced so as to make a discretization over played experience\n",
    "                rather than assuming to know extrema limit of the states of the environment\n",
    "\n",
    "- n_split = [4,5,10,12] --> number of split considered for each state in which it is discretized the obs space\n",
    "\n",
    "- sim = True  --> identify the render mode of the system; if set to False, 'human' is chose\n",
    "\n",
    "- PLOT_DEBUG = False --> plot the interval of discretization of the states\n",
    "\n",
    "'''\n",
    "\n",
    "env = CartPole_v1(n_split=[8,8,8,8])"
   ]
  },
  {
   "cell_type": "code",
   "execution_count": 2,
   "metadata": {},
   "outputs": [
    {
     "name": "stdout",
     "output_type": "stream",
     "text": [
      "[[0.5 0.5 0.5 0.5 0.5 0.5 0.5 0.5 0.5 0.5]\n",
      " [0.5 0.5 0.5 0.5 0.5 0.5 0.5 0.5 0.5 0.5]\n",
      " [0.5 0.5 0.5 0.5 0.5 0.5 0.5 0.5 0.5 0.5]\n",
      " [0.5 0.5 0.5 0.5 0.5 0.5 0.5 0.5 0.5 0.5]]\n"
     ]
    }
   ],
   "source": [
    "a = np.ones((4,10))\n",
    "print(a*0.5)"
   ]
  },
  {
   "cell_type": "code",
   "execution_count": 21,
   "metadata": {},
   "outputs": [],
   "source": [
    "'''\n",
    "Let's resolve the same environment exploiting the SARSA algorithm, based on the TD(lambda) idea\n",
    "the exmploration term is set to costant, in order to consider distribution that could vary during time.CLOCK_BOOTTIME\n",
    "Here the elligibility traces seems to work not so good; it is soething remarkable to take into account.\n",
    "Maybe a better hyper-parameter tuning could be benefit for the algorithm \n",
    "'''\n",
    "\n",
    "class SARSA_Lambda_learning(CartPole_v1):\n",
    "    \n",
    "    def __init__(self, env, epsilon = 0.9, alpha = 0.1, gamma = 0.9, Lambda = 0):  # in this case, we will use alpha as constant parameter for the update\n",
    "                                                                                          # not alpha = 1/n as it is in the case of the MC implementation\n",
    "        self.intervals = env.intervals\n",
    "        self.epsilon = epsilon\n",
    "        self.alpha = alpha\n",
    "        self.gamma = gamma\n",
    "        self.Lambda = Lambda\n",
    "        self.env = env.env\n",
    "        self.n_split = env.n_split\n",
    "        self.timestamps = []\n",
    "        Q_height = 2 # since there are only two possible action \n",
    "        Q_width = self.n_split[0]*self.n_split[1]*self.n_split[2]*self.n_split[3]\n",
    "        self.Q_table = np.random.uniform(low=0, high=1, size=(Q_height, Q_width))\n",
    "        self.Trace = np.zeros_like(self.Q_table)\n",
    "        \n",
    "    def episode_init(self):\n",
    "        state_raw, info = self.env.reset()\n",
    "        state = self.state_projection(state_raw)\n",
    "        return state\n",
    "    \n",
    "    def action_choice(self, state):\n",
    "        if((np.random.uniform(0,100+1)/100) > self.epsilon):\n",
    "            action = int(np.random.choice([0, 1], size=1, p=[.5, .5]))\n",
    "        else:\n",
    "            action = np.argmax(self.Q_table[:, state]) # take the max value associated to the Q_function \n",
    "        return action  \n",
    "    \n",
    "    def Q_update(self, state, action, new_state, new_action, reward):\n",
    "        delta = reward - self.Q_table[action][state] + self.gamma*self.Q_table[new_action][new_state]\n",
    "        self.Trace[action][state] += 1\n",
    "        indeces = np.argwhere(np.abs(self.alpha*delta*self.Trace) != 0)            \n",
    "        for index in indeces:   \n",
    "            self.Q_table[index[0]][index[1]] += self.alpha*(reward - self.Q_table[action][state] + \\\n",
    "                self.gamma*self.Q_table[new_action][new_state])*self.Trace[action][state]\n",
    "            self.Trace[index[0]][index[1]] = self.gamma*self.Lambda*self.Trace[index[0]][index[1]]\n",
    "        return\n",
    "    \n",
    "    def play_an_episode(self):\n",
    "        score = 0\n",
    "        state = self.episode_init()\n",
    "        action = self.action_choice(state)\n",
    "        self.Trace = np.zeros_like(self.Q_table)\n",
    "        while(True):\n",
    "            score +=1 \n",
    "            new_state, reward, terminated, truncated, info = self.env.step(action)\n",
    "            if terminated or truncated: \n",
    "                self.timestamps.append(score)\n",
    "                reward = -10e10\n",
    "            new_state = self.state_projection(new_state)\n",
    "            new_action = self.action_choice(new_state)\n",
    "            self.Q_update(state, action, new_state, new_action, reward)\n",
    "            if terminated or truncated: \n",
    "                break\n",
    "            action = new_action \n",
    "            state = new_state\n",
    "            \n",
    "    def run(self, n_episodes=5000):\n",
    "        for _ in tqdm(range(n_episodes)):\n",
    "            self.play_an_episode()"
   ]
  },
  {
   "cell_type": "code",
   "execution_count": 22,
   "metadata": {},
   "outputs": [
    {
     "name": "stderr",
     "output_type": "stream",
     "text": [
      "100%|██████████| 10000/10000 [01:52<00:00, 88.52it/s]\n"
     ]
    },
    {
     "data": {
      "text/plain": [
       "<function matplotlib.pyplot.plot(*args, scalex=True, scaley=True, data=None, **kwargs)>"
      ]
     },
     "execution_count": 22,
     "metadata": {},
     "output_type": "execute_result"
    },
    {
     "data": {
      "image/png": "[encoded data removed]",
      "text/plain": [
       "<Figure size 640x480 with 1 Axes>"
      ]
     },
     "metadata": {},
     "output_type": "display_data"
    }
   ],
   "source": [
    "SARSA_agent = SARSA_Lambda_learning(env=env)\n",
    "SARSA_agent.run(n_episodes=10000)\n",
    "        \n",
    "x = np.arange(len(SARSA_agent.timestamps))\n",
    "accumul = 0\n",
    "mobile_avg = []\n",
    "counter = 0\n",
    "for elem in SARSA_agent.timestamps: \n",
    "    counter += 1\n",
    "    accumul = accumul + (1/counter)*(elem-accumul) \n",
    "    mobile_avg.append(accumul)\n",
    "    \n",
    "plt.plot(x,mobile_avg)  \n",
    "plt.axhline(195.0, color='gray', label='env threshold = 195.0', linestyle='--')\n",
    "plt.xlabel('n° episodes')\n",
    "plt.ylabel('avg returns') \n",
    "plt.title('learning curve')\n",
    "plt.legend()\n",
    "plt.plot"
   ]
  },
  {
   "cell_type": "code",
   "execution_count": null,
   "metadata": {},
   "outputs": [],
   "source": []
  }
 ],
 "metadata": {
  "kernelspec": {
   "display_name": "Python 3",
   "language": "python",
   "name": "python3"
  },
  "language_info": {
   "codemirror_mode": {
    "name": "ipython",
    "version": 3
   },
   "file_extension": ".py",
   "mimetype": "text/x-python",
   "name": "python",
   "nbconvert_exporter": "python",
   "pygments_lexer": "ipython3",
   "version": "3.8.10"
  },
  "orig_nbformat": 4,
  "vscode": {
   "interpreter": {
    "hash": "916dbcbb3f70747c44a77c7bcd40155683ae19c65e1c03b4aa3499c5328201f1"
   }
  }
 },
 "nbformat": 4,
 "nbformat_minor": 2
}
