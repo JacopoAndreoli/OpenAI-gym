{
 "cells": [
  {
   "cell_type": "code",
   "execution_count": 2,
   "metadata": {},
   "outputs": [],
   "source": [
    "import gymnasium as gym\n",
    "import math\n",
    "import matplotlib.pyplot as plt\n",
    "import numpy as np\n",
    "import random\n",
    "from mpl_toolkits import mplot3d\n",
    "import time \n",
    "import math\n",
    "from tqdm import tqdm"
   ]
  },
  {
   "cell_type": "code",
   "execution_count": 8,
   "metadata": {},
   "outputs": [
    {
     "name": "stderr",
     "output_type": "stream",
     "text": [
      "100%|██████████| 1000/1000 [00:00<00:00, 142969.77it/s]\n"
     ]
    }
   ],
   "source": [
    "'''\n",
    "This cell will load the environment and select the render mode for the simulation, since it is not time consuming; \n",
    "the human node rendering is intended for the real-time simulation of the system (reported at the end of the monte-carlo section)\n",
    "'''\n",
    "\n",
    "env_name = 'CartPole-v1' \n",
    "env = gym.make(env_name, render_mode='rgb_array')   # for simulation\n",
    "#env = gym.make(env_name, render_mode='human')      # for rendering\n",
    "\n",
    "def intervals_split(start, finish, parts):\n",
    "    '''\n",
    "    function that, given an interval and the number of split to apply, \n",
    "    return a list of intervals equalli separated by the number of split given as input\n",
    "    '''\n",
    "    part_duration = (finish-start) / parts\n",
    "    return [start+i * part_duration for i in range(parts+1)] \n",
    "\n",
    "n_split = [4,5,10,12]  # with 3 splits there are 5 intervals created, since two are that one that deal with +- infty\n",
    "\n",
    "obs_list = []\n",
    "observation, info = env.reset()\n",
    "obs_list.append(observation)\n",
    "\n",
    "#here we are observaing a sequence of 10000 actions took, without considering the number of episode\n",
    "for _ in tqdm(range(1000)):\n",
    "    action = env.action_space.sample()  # this is where you would insert your policy\n",
    "    observation, reward, terminated, truncated, info = env.step(action)\n",
    "    obs_list.append(observation)\n",
    "    if terminated or truncated:\n",
    "       observation, info = env.reset()\n",
    "       \n",
    "states = [[], [], [], []]\n",
    "for k in range(len(obs_list)):\n",
    "    states[0].append(obs_list[k][0])\n",
    "    states[1].append(obs_list[k][1])\n",
    "    states[2].append(obs_list[k][2])\n",
    "    states[3].append(obs_list[k][3])\n",
    "    \n",
    "# took the extrema from the simulations \n",
    "extrema = []\n",
    "intervals = []       \n",
    "       \n",
    "for k in range(len(states)):\n",
    "    extrema.append([np.min(states[k]), np.max(states[k])])\n",
    "    intervals.append(intervals_split(extrema[k][0], extrema[k][1], n_split[k]))\n",
    "\n",
    "def state_projection(value, intervals):\n",
    "    '''\n",
    "    This function associate to each state observation a unique positive integer value, useful\n",
    "    for constructing the Q_table\n",
    "    '''\n",
    "    #print(value)\n",
    "    #print(len(value))\n",
    "    discrete_state = []\n",
    "    n_digits = []\n",
    "    for k in range(len(value)):\n",
    "        discrete_state.append(np.digitize(value[k], intervals[k])) # the k-th state description with the k-th intervals split\n",
    "        n_digits.append(len(str(np.digitize(value[k], intervals[k]))))\n",
    "    discrete_state = discrete_state[0]+discrete_state[1]*(n_split[0]+2)+discrete_state[2]*(n_split[0]+2)*(n_split[1]+2)+discrete_state[3]*(n_split[0]+2)*(n_split[1]+2)*(n_split[2]+2)\n",
    "    \n",
    "    return discrete_state\n"
   ]
  },
  {
   "cell_type": "code",
   "execution_count": 9,
   "metadata": {},
   "outputs": [],
   "source": [
    "'''\n",
    "Let's resolve the same environment exploiting the SARSA algorithm, based on the TD(0) idea\n",
    "'''\n",
    "\n",
    "class SARSA_learning():\n",
    "    \n",
    "    def __init__(self, intervals, n_split, environment, epsilon = 0.9, alpha = 0.5, gamma = 0.9):  # in this case, we will use alpha as constant parameter for the update\n",
    "                                                                                          # not alpha = 1/n as it is in the case of the MC implementation\n",
    "        self.intervals = intervals\n",
    "        self.epsilon = epsilon\n",
    "        self.alpha = alpha\n",
    "        self.gamma = gamma\n",
    "        self.env = environment\n",
    "        self.timestamps = []\n",
    "        Q_height = 2 # since there are only two possible action \n",
    "        Q_width = (n_split[0]+2)*(n_split[1]+2)*(n_split[2]+2)*(n_split[3]+2)\n",
    "        self.Q_table = np.zeros((2, Q_width))\n",
    "        self.Counter_table = np.zeros_like(self.Q_table)\n",
    "        \n",
    "    def episode_init(self):\n",
    "        state, info = self.env.reset()\n",
    "        #print(state)\n",
    "        state = state_projection(state, self.intervals)\n",
    "        return state\n",
    "    \n",
    "    def action_choice(self, state):\n",
    "        if((np.random.randint(0,100+1)/100) > self.epsilon):\n",
    "            action = int(np.random.choice([0, 1], size=1, p=[.5, .5]))\n",
    "        else:\n",
    "            action = np.argmax(self.Q_table[:, state]) # take the max value associated to the Q_function \n",
    "        return action  \n",
    "    \n",
    "    def Q_update(self, state, action, new_state, new_action, reward):\n",
    "        #print(\"state = {}  ; action = {}  ; new_state = {}  ; new_action = {}  ; reward = {}\".format(state, action, new_state, new_action, reward))\n",
    "        self.Q_table[action][state] += self.alpha*(reward - self.Q_table[action][state] + self.gamma*self.Q_table[new_action][new_state])\n",
    "        return\n",
    "    \n",
    "    def play_an_episode(self):\n",
    "        score = 0\n",
    "        state = self.episode_init()\n",
    "        action = self.action_choice(state)\n",
    "        while(True):\n",
    "            score +=1 \n",
    "            new_state, reward, terminated, truncated, info = self.env.step(action)\n",
    "            if terminated or truncated: \n",
    "                self.timestamps.append(score)\n",
    "                break\n",
    "            new_state = state_projection(new_state, self.intervals)\n",
    "            new_action = self.action_choice(new_state)\n",
    "            self.Q_update(state, action, new_state, new_action, reward)\n",
    "            action = new_action \n",
    "            state = new_state\n",
    "        \n",
    "    def run(self, n_episodes=5000):\n",
    "        for _ in tqdm(range(n_episodes)):\n",
    "            self.play_an_episode()"
   ]
  },
  {
   "cell_type": "code",
   "execution_count": 10,
   "metadata": {},
   "outputs": [
    {
     "name": "stderr",
     "output_type": "stream",
     "text": [
      "100%|██████████| 5000/5000 [00:15<00:00, 325.76it/s]\n"
     ]
    },
    {
     "data": {
      "text/plain": [
       "<function matplotlib.pyplot.plot(*args, scalex=True, scaley=True, data=None, **kwargs)>"
      ]
     },
     "execution_count": 10,
     "metadata": {},
     "output_type": "execute_result"
    },
    {
     "data": {
      "image/png": "[encoded data removed]",
      "text/plain": [
       "<Figure size 640x480 with 1 Axes>"
      ]
     },
     "metadata": {},
     "output_type": "display_data"
    }
   ],
   "source": [
    "env = gym.make(env_name, render_mode='rgb_array')   # ] simulation \n",
    "SARSA_agent = SARSA_learning(intervals = intervals, n_split = n_split, environment = env)\n",
    "SARSA_agent.run()\n",
    "           \n",
    "x = np.arange(len(SARSA_agent.timestamps))\n",
    "accumul = 0\n",
    "mobile_avg = []\n",
    "counter = 0\n",
    "for elem in SARSA_agent.timestamps: \n",
    "    counter += 1\n",
    "    accumul = accumul + (1/counter)*(elem-accumul) \n",
    "    mobile_avg.append(accumul)\n",
    "    \n",
    "plt.plot(x,mobile_avg, label='eps = 0.95, gamma = 1')  # replace accordingly with the parameters used in the algorithm\n",
    "plt.axhline(195.0, color='gray', label='env threshold = 195.0', linestyle='--')\n",
    "plt.xlabel('n° episodes')\n",
    "plt.ylabel('avg returns') \n",
    "plt.title('learning curve')\n",
    "plt.legend()\n",
    "plt.plot"
   ]
  },
  {
   "cell_type": "code",
   "execution_count": null,
   "metadata": {},
   "outputs": [],
   "source": [
    "env = gym.make(env_name, render_mode='human')       # for rendering\n",
    "\n",
    "# let's experience with the environment  \n",
    "observation, info = env.reset()\n",
    "curr_state = state_projection(observation, SARSA_agent.intervals)\n",
    "for _ in range(10000):\n",
    "   \n",
    "   action = SARSA_agent.action_choice(curr_state) \n",
    "   new_state, reward, terminated, truncated, info = env.step(action)\n",
    "   curr_state = state_projection(new_state, SARSA_agent.intervals)\n",
    "\n",
    "   if terminated or truncated:\n",
    "      observation, info = env.reset() "
   ]
  }
 ],
 "metadata": {
  "kernelspec": {
   "display_name": "Python 3",
   "language": "python",
   "name": "python3"
  },
  "language_info": {
   "codemirror_mode": {
    "name": "ipython",
    "version": 3
   },
   "file_extension": ".py",
   "mimetype": "text/x-python",
   "name": "python",
   "nbconvert_exporter": "python",
   "pygments_lexer": "ipython3",
   "version": "3.8.10"
  },
  "orig_nbformat": 4,
  "vscode": {
   "interpreter": {
    "hash": "916dbcbb3f70747c44a77c7bcd40155683ae19c65e1c03b4aa3499c5328201f1"
   }
  }
 },
 "nbformat": 4,
 "nbformat_minor": 2
}
